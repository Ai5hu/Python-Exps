{
 "cells": [
  {
   "cell_type": "code",
   "execution_count": null,
   "id": "68be45e2-3f60-4ac4-a7c5-cc9dc77b7074",
   "metadata": {},
   "outputs": [],
   "source": []
  },
  {
   "cell_type": "code",
   "execution_count": 2,
   "id": "ccac540b-0dd0-46af-80c0-d3e19e8d046f",
   "metadata": {},
   "outputs": [
    {
     "name": "stdout",
     "output_type": "stream",
     "text": [
      "3\n",
      "3\n",
      "3\n"
     ]
    }
   ],
   "source": [
    "def maxDepth(s: str) -> int:\n",
    "    depth = 0\n",
    "    max_depth = 0\n",
    "    \n",
    "    for char in s:\n",
    "        if char == '(':\n",
    "            depth += 1\n",
    "            max_depth = max(depth, max_depth)\n",
    "        elif char == ')':\n",
    "            depth -= 1\n",
    "    \n",
    "    return max_depth\n",
    "\n",
    "s1 = \"(1+(2*3)+((8)/4))+1\"\n",
    "s2 = \"(1)+((2))+(((3)))\"\n",
    "s3 = \"()(())((()()))\"\n",
    "\n",
    "print(maxDepth(s1))\n",
    "print(maxDepth(s2))\n",
    "print(maxDepth(s3))\n"
   ]
  },
  {
   "cell_type": "code",
   "execution_count": null,
   "id": "4c813ca3-094c-48b0-8609-ec18ee076b33",
   "metadata": {},
   "outputs": [],
   "source": []
  }
 ],
 "metadata": {
  "kernelspec": {
   "display_name": "Python 3 (ipykernel)",
   "language": "python",
   "name": "python3"
  },
  "language_info": {
   "codemirror_mode": {
    "name": "ipython",
    "version": 3
   },
   "file_extension": ".py",
   "mimetype": "text/x-python",
   "name": "python",
   "nbconvert_exporter": "python",
   "pygments_lexer": "ipython3",
   "version": "3.12.5"
  }
 },
 "nbformat": 4,
 "nbformat_minor": 5
}
